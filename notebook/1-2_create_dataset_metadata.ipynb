{
 "cells": [
  {
   "cell_type": "markdown",
   "metadata": {
    "id": "47eA8cNIDonL"
   },
   "source": [
    "# 概要\n",
    "\n",
    "本ファイルは、データセット(3d_labels)で3D物体検出モデルの学習/推論を実行するための事前準備を行います。\n",
    "\n",
    "> 本ファイルで実行するスクリプトはsecond.pytorchをベースとしています。\n",
    "\n",
    "## Output\n",
    "\n",
    "本ファイルを実行することで、`data/3d_labels_painted`ディレクトリに、学習と推論に必要なデータセットのメタ情報(pkl)を生成します。\n",
    "\n",
    "```\n",
    "└ data\n",
    "    ├ 3d_labels\n",
    "    └ 3d_labels_painted\n",
    "        ├ maps\n",
    "        ├ samples\n",
    "            ├ CAM_FRONT\n",
    "            └ LIDAR_TOP\n",
    "        ├ v1.0-trainval\n",
    "        ├ gt_database        <- 本ファイルにて生成されます\n",
    "        ├ infos_train.pkl    <- 本ファイルにて生成されます\n",
    "        ├ infos_val.pkl      <- 本ファイルにて生成されます\n",
    "        └ kitti_dbinfos_train.pkl  <- 本ファイルにて生成されます\n",
    "```\n",
    "\n",
    "# 準備\n",
    "\n",
    "あらかじめ、`data`ディレクトリに、`3d_labels_painted`ディレクトリがあることを確認してください。\n",
    "\n",
    "```\n",
    "└ data\n",
    "    ├ 3d_labels\n",
    "    └ 3d_labels_painted      <- 1-1_painting.ipynb にて生成\n",
    "        ├ maps\n",
    "        ├ samples\n",
    "            ├ CAM_FRONT\n",
    "            └ LIDAR_TOP\n",
    "        └ v1.0-trainval\n",
    "```"
   ]
  },
  {
   "cell_type": "markdown",
   "metadata": {
    "id": "KETCtatybfEH"
   },
   "source": [
    "# データセットの前処理"
   ]
  },
  {
   "cell_type": "code",
   "execution_count": 1,
   "metadata": {
    "colab": {
     "base_uri": "https://localhost:8080/"
    },
    "executionInfo": {
     "elapsed": 1726203,
     "status": "ok",
     "timestamp": 1662795970789,
     "user": {
      "displayName": "Katsuyuki Kimura",
      "userId": "13976517312457191401"
     },
     "user_tz": -540
    },
    "id": "rpTWNIHp6JSx",
    "outputId": "c7ea89b2-024e-4441-f014-ea6190d71646"
   },
   "outputs": [
    {
     "name": "stdout",
     "output_type": "stream",
     "text": [
      "======\n",
      "Loading NuScenes tables for version v1.0-trainval...\n",
      "20 category,\n",
      "8 attribute,\n",
      "4 visibility,\n",
      "2176 instance,\n",
      "2 sensor,\n",
      "74 calibrated_sensor,\n",
      "2475 ego_pose,\n",
      "37 log,\n",
      "37 scene,\n",
      "2475 sample,\n",
      "4950 sample_data,\n",
      "42142 sample_annotation,\n",
      "37 map,\n",
      "Done loading in 0.745 seconds.\n",
      "======\n",
      "Reverse indexing ...\n",
      "Done reverse indexing in 0.1 seconds.\n",
      "======\n",
      "total scene num: 37\n",
      "exist scene num: 37\n",
      "train scene: 35, val scene: 2\n",
      "[100.0%][===================>][296.80it/s][00:58>00:00]    \n",
      "train sample: 2288, val sample: 187\n",
      "[100.0%][===================>][194.40it/s][00:19>00:00]    \n",
      "load 866 bicycle database infos\n",
      "load 12439 car database infos\n",
      "load 117 barrier database infos\n",
      "load 24 construction_vehicle database infos\n",
      "load 2431 pedestrian database infos\n",
      "load 1012 traffic_cone database infos\n",
      "load 2380 truck database infos\n",
      "load 178 motorcycle database infos\n",
      "load 4 animal database infos\n",
      "load 61 static_object.bicycle_rack database infos\n",
      "load 152 bus database infos\n",
      "load 5126 static.manmade database infos\n",
      "load 25 movable_object.debris database infos\n",
      "load 49 trailer database infos\n",
      "load 59 movable_object.pushable_pullable database infos\n",
      "load 1 human.pedestrian.personal_mobility database infos\n",
      "load 6 vehicle.emergency.police database infos\n"
     ]
    }
   ],
   "source": [
    "dataset_path = \"../data/3d_labels_painted\"\n",
    "\n",
    "!python ../second.pytorch/second/create_data.py nuscenes_data_prep \\\n",
    "        --root_path=$dataset_path \\\n",
    "        --version=\"v1.0-trainval\" \\\n",
    "        --dataset_name=\"NuScenesDataset\" \\\n",
    "        --max_sweeps=0 \\\n",
    "        --num_point_features=7"
   ]
  },
  {
   "cell_type": "markdown",
   "metadata": {
    "id": "QZvrSZtLDdbq"
   },
   "source": [
    "以上"
   ]
  }
 ],
 "metadata": {
  "accelerator": "GPU",
  "colab": {
   "authorship_tag": "ABX9TyPAiWqcTzm7I43QZGE2HfOW",
   "collapsed_sections": [],
   "machine_shape": "hm",
   "mount_file_id": "1deY9rBW8xs44Yv4S2UIX__YKLGSzYwEI",
   "provenance": []
  },
  "gpuClass": "standard",
  "kernelspec": {
   "display_name": "Python 3 (ipykernel)",
   "language": "python",
   "name": "python3"
  },
  "language_info": {
   "codemirror_mode": {
    "name": "ipython",
    "version": 3
   },
   "file_extension": ".py",
   "mimetype": "text/x-python",
   "name": "python",
   "nbconvert_exporter": "python",
   "pygments_lexer": "ipython3",
   "version": "3.8.10"
  }
 },
 "nbformat": 4,
 "nbformat_minor": 1
}
